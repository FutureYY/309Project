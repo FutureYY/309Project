{
 "cells": [
  {
   "cell_type": "code",
   "execution_count": 1,
   "id": "5a633d03",
   "metadata": {},
   "outputs": [],
   "source": [
    "# importing libraries needed\n",
    "\n",
    "import matplotlib.pyplot as plt\n",
    "import numpy as np\n",
    "import pandas as pd\n",
    "import seaborn as sns\n",
    "\n",
    "import pyspark.sql.functions as F\n",
    "from pyspark.sql.functions import when, min, max, col, round, lower, trim, countDistinct, count, sum, month, hour\n",
    "from pyspark.sql import Window\n",
    "\n",
    "from pyspark.sql.functions import sum as spark_sum, col, when"
   ]
  },
  {
   "cell_type": "markdown",
   "id": "3704ea3d",
   "metadata": {},
   "source": [
    "## Starting PySpark session"
   ]
  },
  {
   "cell_type": "code",
   "execution_count": 3,
   "id": "a40e2bd4",
   "metadata": {},
   "outputs": [],
   "source": [
    "# sets logging level for py4j (used by pyspark to communicate with JVM, Java Virtual Machine)\n",
    "\n",
    "import logging\n",
    "logging.getLogger(\"py4j\").setLevel(logging.INFO)"
   ]
  },
  {
   "cell_type": "code",
   "execution_count": 4,
   "id": "f4ce6580",
   "metadata": {},
   "outputs": [
    {
     "data": {
      "text/html": [
       "\n",
       "            <div>\n",
       "                <p><b>SparkSession - in-memory</b></p>\n",
       "                \n",
       "        <div>\n",
       "            <p><b>SparkContext</b></p>\n",
       "\n",
       "            <p><a href=\"http://Jiawen:4040\">Spark UI</a></p>\n",
       "\n",
       "            <dl>\n",
       "              <dt>Version</dt>\n",
       "                <dd><code>v3.3.1</code></dd>\n",
       "              <dt>Master</dt>\n",
       "                <dd><code>local[*]</code></dd>\n",
       "              <dt>AppName</dt>\n",
       "                <dd><code>EDA</code></dd>\n",
       "            </dl>\n",
       "        </div>\n",
       "        \n",
       "            </div>\n",
       "        "
      ],
      "text/plain": [
       "<pyspark.sql.session.SparkSession at 0x1ed5bd2b3b0>"
      ]
     },
     "execution_count": 4,
     "metadata": {},
     "output_type": "execute_result"
    }
   ],
   "source": [
    "from pyspark.sql import SparkSession\n",
    "\n",
    "spark = SparkSession.builder \\\n",
    "        .appName(\"EDA\") \\\n",
    "        .config(\"spark.ui.showConsoleProgress\", \"false\") \\\n",
    "        .config(\"spark.local.dir\", \"C:/temp/spark\") \\\n",
    "        .getOrCreate()\n",
    "\n",
    "spark"
   ]
  },
  {
   "cell_type": "code",
   "execution_count": 27,
   "id": "86b75083",
   "metadata": {},
   "outputs": [],
   "source": [
    "# Load cleaned datasets\n",
    "\n",
    "# Add src to the Python path if needed\n",
    "import sys\n",
    "sys.path.append(\"../raw_functions\")\n",
    "\n",
    "df_orders           = spark.read.csv(\"raw_functions/cleaned_data/cleaned_orders.csv\", header=True)\n",
    "df_customers        = spark.read.csv(\"raw_functions/cleaned_data/cleaned_customers.csv\", header=True)\n",
    "df_order_items      = spark.read.csv(\"raw_functions/cleaned_data/cleaned_order_items.csv\", header=True)\n",
    "df_products         = spark.read.csv(\"raw_functions/cleaned_data/cleaned_products.csv\", header=True)\n",
    "df_payments         = spark.read.csv(\"raw_functions/cleaned_data/cleaned_order_payments.csv\", header=True)\n",
    "df_sellers          = spark.read.csv(\"raw_functions/cleaned_data/cleaned_seller.csv\", header=True)\n",
    "df_geolocation      = spark.read.csv(\"raw_functions/cleaned_data/cleaned_geolocation.csv\", header=True)\n",
    "df_product_category = spark.read.csv(\"raw_functions/cleaned_data/product_category_name_translation.csv\", header=True)\n"
   ]
  },
  {
   "cell_type": "code",
   "execution_count": 28,
   "id": "507367b4",
   "metadata": {},
   "outputs": [],
   "source": [
    "from raw_functions.delivery_time import time_taken_to_deliver, flag_delivery_speed_relative\n",
    "from raw_functions.distance import add_order_delivery_distance\n",
    "from raw_functions.installment_flagging import add_high_installment_flag\n",
    "from raw_functions.product_category import get_category_in_english, group_categories_by_sales_with_ohe\n",
    "from raw_functions.repeat_buyers import finding_repeat_buyers, add_repeat_order_gaps"
   ]
  },
  {
   "cell_type": "markdown",
   "id": "a3bc3bca",
   "metadata": {},
   "source": [
    "## Introduction to EDA"
   ]
  },
  {
   "cell_type": "markdown",
   "id": "c3db88c5",
   "metadata": {},
   "source": [
    "Objectives for this EDA:\n",
    "\n",
    "1. Understand and doing basic cleaning on the datasets given\n",
    "- Find missing values, duplicates or data that have inconsistent formats\n",
    "- Identify and handle outliers\n",
    "- Checking for invalid timestamps (e.g. delivery occurs before purchase date)\n",
    "\n",
    "2. Distribution of data and relationship\n",
    "- Most commmon product categories, payment methods, purchase hour\n",
    "\n",
    "3. Customer Behaviour Analysis\n",
    "- How many repeat buyers exist?\n",
    "- Average time between orders for repeat buyers\n",
    "- Preference of repeat buyers (What are they repurchasing)\n",
    "\n",
    "4. Payment analysis\n",
    "- Does customers who make paymetns with vouchers behave diffferntly?\n",
    "- Is there a relationship between high installments (high installment value/high amount of installments made) and low repurchases?\n",
    "\n",
    "5. Delivery pattern\n",
    "- How long does delivery take?\n",
    "- Will long delivery duration cause bad reviews or lower chances of repeat orders?\n",
    "- Distance between customer and seller\n",
    "\n",
    "6. Review score\n",
    "- Are review scores linked to repeat purchases?\n",
    "\n",
    "7. Product category\n",
    "- Which product categories are the most popular?\n",
    "- Group categories which are not popular under 'others'\n",
    "- Do one-hot encoding on product categories\n",
    "\n",
    "Final EDA Goal:\n",
    "\n",
    "To prepare, clean, insightful dataset with features that will be helpful in helping the model to find repeat buyers."
   ]
  },
  {
   "cell_type": "markdown",
   "id": "f55094be",
   "metadata": {},
   "source": [
    "### 1. Understanding and doing basic cleaning on datasets"
   ]
  },
  {
   "cell_type": "code",
   "execution_count": null,
   "id": "c421f195",
   "metadata": {},
   "outputs": [],
   "source": [
    "# christel's code will be in/under this markdown cell\n",
    "\n",
    "# Find missing values, duplicates or data that have inconsistent formats\n",
    "# Identify and handle outliers\n",
    "# Checking for invalid timestamps (e.g. delivery occurs before purchase date)"
   ]
  },
  {
   "cell_type": "markdown",
   "id": "90ad27e0",
   "metadata": {},
   "source": [
    "### 2. Distribution of data and relationship"
   ]
  },
  {
   "cell_type": "markdown",
   "id": "451b7b5a",
   "metadata": {},
   "source": [
    "#### most common cities"
   ]
  },
  {
   "cell_type": "code",
   "execution_count": 29,
   "id": "4d2b9a57",
   "metadata": {},
   "outputs": [],
   "source": [
    "def time_taken_to_deliver(df):\n",
    "  delivered_orders = df_orders.filter(df_orders.order_status == 'delivered')\n",
    "\n",
    "  df_time = delivered_orders.withColumn('delivered_in_days', round((col('order_delivered_customer_date').cast('long') - col('order_purchase_timestamp').cast('long'))/86400))\\\n",
    "            .withColumn('month_of_purchase', month(col('order_purchase_timestamp')))\\\n",
    "            .withColumn('purchase_hour', hour(col('order_purchase_timestamp')))\n",
    "\n",
    "  df_time = df_time.select(\"order_id\" , \"order_purchase_timestamp\", \"order_delivered_customer_date\", \"purchase_hour\", \"month_of_purchase\", \"delivered_in_days\")\n",
    "\n",
    "  return df_time"
   ]
  },
  {
   "cell_type": "markdown",
   "id": "3ee7b102",
   "metadata": {},
   "source": [
    "#### "
   ]
  },
  {
   "cell_type": "code",
   "execution_count": null,
   "id": "0d809657",
   "metadata": {},
   "outputs": [],
   "source": [
    "# Most commmon product categories, payment methods, purchase hour\n",
    "\n",
    "# most common cities \n",
    "# most common purchase hour\n",
    "# most common product categories\n",
    "# most common payment type\n",
    "# distribution of no. of installments made/value\n",
    "# distribution of review score"
   ]
  },
  {
   "cell_type": "markdown",
   "id": "8be449f2",
   "metadata": {},
   "source": [
    "### 3. Customer Behaviour Analysis"
   ]
  },
  {
   "cell_type": "code",
   "execution_count": null,
   "id": "4af96d8d",
   "metadata": {},
   "outputs": [],
   "source": [
    "# How many repeat buyers exist?\n",
    "# Average time between orders for repeat buyers\n",
    "# Preference of repeat buyers (What are they repurchasing)"
   ]
  },
  {
   "cell_type": "markdown",
   "id": "96044db4",
   "metadata": {},
   "source": [
    "### 4. Payment analysis"
   ]
  },
  {
   "cell_type": "code",
   "execution_count": null,
   "id": "f2f52cb0",
   "metadata": {},
   "outputs": [],
   "source": [
    "# Does customers who make paymetns with vouchers behave diffferntly?\n",
    "# Is there a relationship between high installments (high installment value/high amount of installments made) and low repurchases?"
   ]
  },
  {
   "cell_type": "markdown",
   "id": "58e348b5",
   "metadata": {},
   "source": [
    "### 5. Delivery pattern"
   ]
  },
  {
   "cell_type": "code",
   "execution_count": null,
   "id": "3be6080a",
   "metadata": {},
   "outputs": [],
   "source": [
    "# How long does delivery take?\n",
    "# Will long delivery duration cause bad reviews or lower chances of repeat orders?\n",
    "# Distance between customer and seller"
   ]
  },
  {
   "cell_type": "markdown",
   "id": "474800ca",
   "metadata": {},
   "source": [
    "### 6. Review score"
   ]
  },
  {
   "cell_type": "code",
   "execution_count": null,
   "id": "c58111f0",
   "metadata": {},
   "outputs": [],
   "source": [
    "# Are review scores linked to repeat purchases?"
   ]
  },
  {
   "cell_type": "markdown",
   "id": "b70a067c",
   "metadata": {},
   "source": [
    "### 7. Product category"
   ]
  },
  {
   "cell_type": "code",
   "execution_count": null,
   "id": "959480c0",
   "metadata": {},
   "outputs": [],
   "source": [
    "# Which product categories are the most popular?\n",
    "# Group categories which are not popular under 'others'\n",
    "# Do one-hot encoding on product categories"
   ]
  }
 ],
 "metadata": {
  "kernelspec": {
   "display_name": ".venv",
   "language": "python",
   "name": "python3"
  },
  "language_info": {
   "codemirror_mode": {
    "name": "ipython",
    "version": 3
   },
   "file_extension": ".py",
   "mimetype": "text/x-python",
   "name": "python",
   "nbconvert_exporter": "python",
   "pygments_lexer": "ipython3",
   "version": "3.12.6"
  }
 },
 "nbformat": 4,
 "nbformat_minor": 5
}
